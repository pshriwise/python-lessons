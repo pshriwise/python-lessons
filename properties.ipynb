{
 "cells": [
  {
   "cell_type": "markdown",
   "id": "5c16d0c8-c002-4d3c-a120-7348da970bd5",
   "metadata": {},
   "source": [
    "## Properties\n",
    "  - All Python attributes are \"public\"\n",
    "  - In many OOP languages (C++, Java, etc.), classes can have \"private\" attributes that a user of a class can't see/access/change\n",
    "  - Rather than giving a user direct access to attributes we want protected, a common pattern is to create getter and setter methods that control access"
   ]
  },
  {
   "cell_type": "code",
   "execution_count": 13,
   "id": "bd811b6e-243a-4ee9-9b04-9385db8979bc",
   "metadata": {},
   "outputs": [],
   "source": [
    "class Person:\n",
    "    def __init__(self, first_name, last_name, age):\n",
    "        # note: a leading underscore is a common practice to mark an attribute as private\n",
    "        self._first_name = first_name\n",
    "        self._last_name = last_name\n",
    "        self.set_age(age)\n",
    "\n",
    "    def get_age(self):\n",
    "        return self._age\n",
    "    \n",
    "    def set_age(self, age):\n",
    "        if age < 0:\n",
    "            raise ValueError(\"Person can't have negative age!\")\n",
    "        self._age = age"
   ]
  },
  {
   "cell_type": "code",
   "execution_count": 15,
   "id": "4457cf40-f67c-4e69-bcfe-b1c0748bc618",
   "metadata": {},
   "outputs": [
    {
     "ename": "ValueError",
     "evalue": "Person can't have negative age!",
     "output_type": "error",
     "traceback": [
      "\u001b[0;31m---------------------------------------------------------------------------\u001b[0m",
      "\u001b[0;31mValueError\u001b[0m                                Traceback (most recent call last)",
      "Input \u001b[0;32mIn [15]\u001b[0m, in \u001b[0;36m<cell line: 1>\u001b[0;34m()\u001b[0m\n\u001b[0;32m----> 1\u001b[0m p \u001b[38;5;241m=\u001b[39m \u001b[43mPerson\u001b[49m\u001b[43m(\u001b[49m\u001b[38;5;124;43m\"\u001b[39;49m\u001b[38;5;124;43mPatrick\u001b[39;49m\u001b[38;5;124;43m\"\u001b[39;49m\u001b[43m,\u001b[49m\u001b[43m \u001b[49m\u001b[38;5;124;43m\"\u001b[39;49m\u001b[38;5;124;43mShriwise\u001b[39;49m\u001b[38;5;124;43m\"\u001b[39;49m\u001b[43m,\u001b[49m\u001b[43m \u001b[49m\u001b[38;5;241;43m-\u001b[39;49m\u001b[38;5;241;43m30\u001b[39;49m\u001b[43m)\u001b[49m\n",
      "Input \u001b[0;32mIn [13]\u001b[0m, in \u001b[0;36mPerson.__init__\u001b[0;34m(self, first_name, last_name, age)\u001b[0m\n\u001b[1;32m      3\u001b[0m \u001b[38;5;28mself\u001b[39m\u001b[38;5;241m.\u001b[39m_first_name \u001b[38;5;241m=\u001b[39m first_name\n\u001b[1;32m      4\u001b[0m \u001b[38;5;28mself\u001b[39m\u001b[38;5;241m.\u001b[39m_last_name \u001b[38;5;241m=\u001b[39m last_name\n\u001b[0;32m----> 5\u001b[0m \u001b[38;5;28;43mself\u001b[39;49m\u001b[38;5;241;43m.\u001b[39;49m\u001b[43mset_age\u001b[49m\u001b[43m(\u001b[49m\u001b[43mage\u001b[49m\u001b[43m)\u001b[49m\n",
      "Input \u001b[0;32mIn [13]\u001b[0m, in \u001b[0;36mPerson.set_age\u001b[0;34m(self, age)\u001b[0m\n\u001b[1;32m     10\u001b[0m \u001b[38;5;28;01mdef\u001b[39;00m \u001b[38;5;21mset_age\u001b[39m(\u001b[38;5;28mself\u001b[39m, age):\n\u001b[1;32m     11\u001b[0m     \u001b[38;5;28;01mif\u001b[39;00m age \u001b[38;5;241m<\u001b[39m \u001b[38;5;241m0\u001b[39m:\n\u001b[0;32m---> 12\u001b[0m         \u001b[38;5;28;01mraise\u001b[39;00m \u001b[38;5;167;01mValueError\u001b[39;00m(\u001b[38;5;124m\"\u001b[39m\u001b[38;5;124mPerson can\u001b[39m\u001b[38;5;124m'\u001b[39m\u001b[38;5;124mt have negative age!\u001b[39m\u001b[38;5;124m\"\u001b[39m)\n\u001b[1;32m     13\u001b[0m     \u001b[38;5;28mself\u001b[39m\u001b[38;5;241m.\u001b[39m_age \u001b[38;5;241m=\u001b[39m age\n",
      "\u001b[0;31mValueError\u001b[0m: Person can't have negative age!"
     ]
    }
   ],
   "source": [
    "p = Person(\"Patrick\", \"Shriwise\", -30)"
   ]
  },
  {
   "cell_type": "markdown",
   "id": "3c96e024-a872-416b-9bac-eae6790c34eb",
   "metadata": {},
   "source": [
    "**Properties to the rescue!!**\n",
    "\n",
    "Properties can be used to provide error checking using the same syntax as a normal attribute. If a setter is not provided for a property, it then becomes immutable on the class. Sometimes an internal variable is used to store the data with a leading underscore to indicate that the attribute truly storing information is private -- a common convention in Python code. Other times properties can be used to provide information that is derived from other attributes, like the `full_name` attribute below. Accessing an attribute `Person.full_name` is more natural than calling a method with no arguments like `Person.get_full_name()` or `Person.full_name()` and removes ambiguity about whether or not the method requires arguments when navigating an API. "
   ]
  },
  {
   "cell_type": "code",
   "execution_count": 26,
   "id": "35950a7c-7b5b-411c-86a8-d491714fad47",
   "metadata": {},
   "outputs": [],
   "source": [
    "class Person:\n",
    "    def __init__(self, first_name, last_name, age):\n",
    "        # note: a leading underscore is a common practice to mark an attribute as private\n",
    "        self._first_name = first_name\n",
    "        self._last_name = last_name\n",
    "        self.age = age\n",
    "        \n",
    "    @property\n",
    "    def age(self):\n",
    "        return self._age\n",
    "        \n",
    "    @age.setter\n",
    "    def age(self, age):\n",
    "        if age < 0:\n",
    "            raise ValueError(\"Person can't have negative age!\")\n",
    "        self._age = age\n",
    "\n",
    "    @property\n",
    "    def first_name(self):\n",
    "        return self._first_name\n",
    "\n",
    "    @property\n",
    "    def last_name(self):\n",
    "        return self._last_name\n",
    "    \n",
    "    @property\n",
    "    def full_name(self):\n",
    "        return f'{self.first_name} {self.last_name}'"
   ]
  },
  {
   "cell_type": "code",
   "execution_count": 27,
   "id": "d3a46125-ab3f-495d-9b11-1c4d2f2fd7b9",
   "metadata": {},
   "outputs": [
    {
     "data": {
      "text/plain": [
       "'Patrick'"
      ]
     },
     "execution_count": 27,
     "metadata": {},
     "output_type": "execute_result"
    }
   ],
   "source": [
    "p = Person(\"Patrick\", \"Shriwise\", 30)\n",
    "p.first_name"
   ]
  },
  {
   "cell_type": "code",
   "execution_count": 28,
   "id": "b81731a7-8dbd-4d36-a729-88cce5883fd9",
   "metadata": {},
   "outputs": [
    {
     "ename": "AttributeError",
     "evalue": "can't set attribute",
     "output_type": "error",
     "traceback": [
      "\u001b[0;31m---------------------------------------------------------------------------\u001b[0m",
      "\u001b[0;31mAttributeError\u001b[0m                            Traceback (most recent call last)",
      "Input \u001b[0;32mIn [28]\u001b[0m, in \u001b[0;36m<cell line: 1>\u001b[0;34m()\u001b[0m\n\u001b[0;32m----> 1\u001b[0m \u001b[43mp\u001b[49m\u001b[38;5;241;43m.\u001b[39;49m\u001b[43mfirst_name\u001b[49m \u001b[38;5;241m=\u001b[39m \u001b[38;5;124m\"\u001b[39m\u001b[38;5;124mAndrew\u001b[39m\u001b[38;5;124m\"\u001b[39m\n",
      "\u001b[0;31mAttributeError\u001b[0m: can't set attribute"
     ]
    }
   ],
   "source": [
    "p.first_name = \"Andrew\""
   ]
  },
  {
   "cell_type": "code",
   "execution_count": 29,
   "id": "c99e9235-cc57-48bc-a7ef-e3ab1e54d2bf",
   "metadata": {},
   "outputs": [
    {
     "data": {
      "text/plain": [
       "'Patrick Shriwise'"
      ]
     },
     "execution_count": 29,
     "metadata": {},
     "output_type": "execute_result"
    }
   ],
   "source": [
    "p.full_name"
   ]
  }
 ],
 "metadata": {
  "kernelspec": {
   "display_name": "Python 3 (ipykernel)",
   "language": "python",
   "name": "python3"
  },
  "language_info": {
   "codemirror_mode": {
    "name": "ipython",
    "version": 3
   },
   "file_extension": ".py",
   "mimetype": "text/x-python",
   "name": "python",
   "nbconvert_exporter": "python",
   "pygments_lexer": "ipython3",
   "version": "3.9.1"
  }
 },
 "nbformat": 4,
 "nbformat_minor": 5
}
