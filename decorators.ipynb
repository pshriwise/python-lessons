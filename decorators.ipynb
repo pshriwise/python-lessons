{
 "cells": [
  {
   "cell_type": "markdown",
   "id": "09bef356-022f-41c0-8dea-bf6d56b12a3f",
   "metadata": {},
   "source": [
    "# Decorators"
   ]
  },
  {
   "cell_type": "markdown",
   "id": "1fdb76a9-b334-42e7-998f-9f6d19247b6e",
   "metadata": {},
   "source": [
    "Decorators appear before functions and change their behavior. `@property` is in fact a decorator that is part of the Python standard library (well technically it's a class, but acts like a decorator). \n",
    "\n",
    "Other common decorators are:\n",
    "\n",
    "  - `@classmethod`\n",
    "  - `@staticmethod`\n",
    "  - `@abstractmethod`\n",
    "\n",
    "Decorators are functions that wrap other functions. A decorator takes a function as an argument and returns a function."
   ]
  },
  {
   "cell_type": "code",
   "execution_count": 3,
   "id": "7a45a8bf-b554-4d18-97e5-b8c60aecca36",
   "metadata": {},
   "outputs": [],
   "source": [
    "@decorate\n",
    "def func(x):\n",
    "    return 3*x\n",
    "\n",
    "# easiest to think of this as \n",
    "# func = decorate(func)"
   ]
  },
  {
   "cell_type": "markdown",
   "id": "ac6651ba-b9f2-4c85-a547-4bf2c6df08e1",
   "metadata": {},
   "source": [
    "In order to return a function. A new function is defined inside the decorator and returned. Note that the inner function should take the same arguments as the function passed to the decorator."
   ]
  },
  {
   "cell_type": "code",
   "execution_count": 2,
   "id": "f81b9cc3-1f19-4a9c-97fb-c5eec1ebdbba",
   "metadata": {},
   "outputs": [],
   "source": [
    "def decorate(func):\n",
    "    \n",
    "    def inner(x):\n",
    "        ### What is added by the decorator\n",
    "        print(f'Multiplying {x} by 3')\n",
    "        ###\n",
    "        return func(x) # <-- the original function result\n",
    "        \n",
    "    return inner # <-- what comes back from the decorator"
   ]
  },
  {
   "cell_type": "code",
   "execution_count": 4,
   "id": "657d833e-1e0c-4255-a5a8-b1356db79994",
   "metadata": {},
   "outputs": [
    {
     "name": "stdout",
     "output_type": "stream",
     "text": [
      "Multiplying 3 by 3\n"
     ]
    },
    {
     "data": {
      "text/plain": [
       "9"
      ]
     },
     "execution_count": 4,
     "metadata": {},
     "output_type": "execute_result"
    }
   ],
   "source": [
    "func(3)"
   ]
  },
  {
   "cell_type": "markdown",
   "id": "15de3243-53f5-4d1f-8149-76cc97740370",
   "metadata": {},
   "source": [
    "Decorators can be really powerful becuse they can store state thanks to the way that Python encapsulates contextual information about functions. This is called a function's _closure_. "
   ]
  },
  {
   "cell_type": "markdown",
   "id": "18b3eb11-1b64-43f4-8897-85e6f5c6f287",
   "metadata": {},
   "source": [
    "# An aside on namespaces, scopes, and closures\n",
    "\n",
    "When you use a name in a program, Python creates/looks up the name in a **namespace**. The location of a name's assignment determines the **scope** of its visibility in the code. \n",
    "\n",
    "Functions create their own namespace. Names inside a function cannot be seen outside of the function definition. Names inside the function do not clash with the names outside the function.\n",
    "\n",
    "Python has several scopes for names/variables:\n",
    "\n",
    "  - Names assigned outside of a function/class in a file have \"global\" scope. This scope covers a single file.\n",
    "  - Names inside a function are local unless specified otherwise (e.g. with `global`)\n",
    "  - There is also a \"built-in\" namespace with functions like `abs`, `sum`, etc.\n",
    "\n",
    "Inside functions referencing a name will cause the interpreter to search through the following scopes in order: local, enclosing functions, global, built-in.\n",
    "\n",
    "This is often referred to as the LEGB rule."
   ]
  },
  {
   "cell_type": "markdown",
   "id": "ec1c8407-2503-4912-bcd9-f5b10fc8ee7b",
   "metadata": {},
   "source": [
    "Back to decorators with state..."
   ]
  },
  {
   "cell_type": "code",
   "execution_count": null,
   "id": "1b8a984b-2209-4efc-9f4d-9466510c43d3",
   "metadata": {},
   "outputs": [],
   "source": [
    "def count_calls(func):\n",
    "    count = 0\n",
    "    def inner(*args):\n",
    "        nonlocal count\n",
    "        count += 1\n",
    "        print(f'{func.__name__} has been called {count} times')\n",
    "        return func(*args)\n",
    "    return inner"
   ]
  },
  {
   "cell_type": "code",
   "execution_count": 10,
   "id": "af65d083-c779-44de-8d37-ca2c62772192",
   "metadata": {},
   "outputs": [],
   "source": [
    "@count_calls\n",
    "def add(x, y):\n",
    "    \"\"\"\n",
    "    Adds two values together\n",
    "    \"\"\"\n",
    "    return x + y"
   ]
  },
  {
   "cell_type": "code",
   "execution_count": 11,
   "id": "ba32e748-10c4-4f3a-9ccf-d46e7a81f3e7",
   "metadata": {},
   "outputs": [
    {
     "data": {
      "text/plain": [
       "\u001b[0;31mSignature:\u001b[0m \u001b[0madd\u001b[0m\u001b[0;34m(\u001b[0m\u001b[0mx\u001b[0m\u001b[0;34m,\u001b[0m \u001b[0my\u001b[0m\u001b[0;34m)\u001b[0m\u001b[0;34m\u001b[0m\u001b[0;34m\u001b[0m\u001b[0m\n",
       "\u001b[0;31mDocstring:\u001b[0m Adds two values together\n",
       "\u001b[0;31mFile:\u001b[0m      /tmp/ipykernel_15942/317078779.py\n",
       "\u001b[0;31mType:\u001b[0m      function\n"
      ]
     },
     "metadata": {},
     "output_type": "display_data"
    }
   ],
   "source": [
    "add?"
   ]
  },
  {
   "cell_type": "code",
   "execution_count": 12,
   "id": "5cc860c3-01af-45da-9f01-e10fdef29c72",
   "metadata": {},
   "outputs": [],
   "source": [
    "import functools\n",
    "\n",
    "def count_calls(func):\n",
    "    count = 0\n",
    "    @functools.wraps(func) # <-- forwards func's metadata to inner \n",
    "    def inner(*args):\n",
    "        nonlocal count\n",
    "        count += 1\n",
    "        print(f'{func.__name__} has been called {count} times')\n",
    "        return func(*args)\n",
    "    return inner"
   ]
  },
  {
   "cell_type": "markdown",
   "id": "818d5d6c-e6c9-46db-92db-b4e7f0f26866",
   "metadata": {},
   "source": [
    "Decorators can also take functions and be used to define custom context managers, but we'll leave that for another time."
   ]
  },
  {
   "cell_type": "code",
   "execution_count": null,
   "id": "80223ac1-2fab-403c-a67e-bd805d516ac8",
   "metadata": {},
   "outputs": [],
   "source": []
  }
 ],
 "metadata": {
  "kernelspec": {
   "display_name": "Python 3 (ipykernel)",
   "language": "python",
   "name": "python3"
  },
  "language_info": {
   "codemirror_mode": {
    "name": "ipython",
    "version": 3
   },
   "file_extension": ".py",
   "mimetype": "text/x-python",
   "name": "python",
   "nbconvert_exporter": "python",
   "pygments_lexer": "ipython3",
   "version": "3.9.1"
  }
 },
 "nbformat": 4,
 "nbformat_minor": 5
}
